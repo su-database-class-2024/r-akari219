{
 "cells": [
  {
   "cell_type": "markdown",
   "metadata": {},
   "source": [
    "\n",
    "F9. （自由課題2）人流データを用いたテーマを自由に設定しデータを抽出し、結果を地図で示せ"
   ]
  }
 ],
 "metadata": {
  "language_info": {
   "name": "python"
  }
 },
 "nbformat": 4,
 "nbformat_minor": 2
}
