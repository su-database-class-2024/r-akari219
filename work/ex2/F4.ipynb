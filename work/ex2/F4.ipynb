{
 "cells": [
  {
   "cell_type": "markdown",
   "metadata": {},
   "source": [
    "F4. 1都6県（東京、群馬、栃木、茨城、千葉、埼玉、神奈川）における、2019年4月（休日・昼間）の市区町村の人口密度 (人/km2)を示す地図を作成せよ。"
   ]
  }
 ],
 "metadata": {
  "language_info": {
   "name": "python"
  }
 },
 "nbformat": 4,
 "nbformat_minor": 2
}
