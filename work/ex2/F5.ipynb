{
 "cells": [
  {
   "cell_type": "markdown",
   "metadata": {},
   "source": [
    "F5. 埼玉県内の全鉄道駅の2020年4月（休日・昼間）の人口を、大きい順に並べ、最初の10件を示せ。"
   ]
  }
 ],
 "metadata": {
  "language_info": {
   "name": "python"
  }
 },
 "nbformat": 4,
 "nbformat_minor": 2
}
