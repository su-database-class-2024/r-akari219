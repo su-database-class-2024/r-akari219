{
 "cells": [
  {
   "cell_type": "markdown",
   "metadata": {},
   "source": [
    "F7. 1都6県のそれぞれにおいて、2019年4月（休日・昼間）と2020年4月（休日・昼間）の人口増減率 ((pop_202004 - pop_201901)/pop_201904)が一番小さい駅を示せ（出力は県名、駅名、人口増減率とすること）。"
   ]
  }
 ],
 "metadata": {
  "language_info": {
   "name": "python"
  }
 },
 "nbformat": 4,
 "nbformat_minor": 2
}
